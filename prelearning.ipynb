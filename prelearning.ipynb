{
 "cells": [
  {
   "cell_type": "code",
   "execution_count": null,
   "id": "d4ae8e3d",
   "metadata": {},
   "outputs": [],
   "source": [
    "# import environement\n",
    "from city import City\n",
    "\n",
    "import os\n",
    "import cv2\n",
    "\n",
    "from stable_baselines3 import DQN, PPO, A2C\n",
    "from stable_baselines3.common.env_checker import check_env\n",
    "from stable_baselines3.common.env_util import make_vec_env"
   ]
  },
  {
   "cell_type": "code",
   "execution_count": null,
   "id": "0f648fb5",
   "metadata": {},
   "outputs": [],
   "source": []
  },
  {
   "cell_type": "code",
   "execution_count": null,
   "id": "edd675fa",
   "metadata": {},
   "outputs": [],
   "source": [
    "#DQN entrainement\n",
    "path = './DQNstableVect/'\n",
    "try : os.mkdir(path)\n",
    "except OSError : pass\n",
    "\n",
    "env = City((20, 20), start_shape = (3, 3),path=path)\n",
    "env = make_vec_env(lambda: env, n_envs = 1)\n",
    "\n",
    "model = DQN(\"MlpPolicy\", env, verbose=1)"
   ]
  },
  {
   "cell_type": "code",
   "execution_count": null,
   "id": "59c245f2",
   "metadata": {},
   "outputs": [],
   "source": [
    "# continual learning with stablebaseline :\n",
    "#https://stable-baselines.readthedocs.io/en/master/guide/examples.html\n",
    "\n",
    "def learn(model, total_timesteps = 1000, prelearning_timesteps = 100, prelearning_reset = 14):\n",
    "    # prelearn prelearning_timesteps time\n",
    "    # reset environment every prelearning_reset when in prelearning phase\n",
    "    \n",
    "    i = 0\n",
    "    while i < prelearning_timesteps :\n",
    "        i += prelearning_reset\n",
    "        model.learn(total_timesteps=prelearning_reset)\n",
    "\n",
    "    model.learn(total_timesteps=total_timesteps - i)\n",
    "    return model"
   ]
  },
  {
   "cell_type": "code",
   "execution_count": null,
   "id": "851b9269",
   "metadata": {},
   "outputs": [],
   "source": [
    "model = learn(model, 1000, 100, 14)\n"
   ]
  },
  {
   "cell_type": "code",
   "execution_count": null,
   "id": "19436e3e",
   "metadata": {},
   "outputs": [],
   "source": [
    "#DQN analyseQualitatif\n",
    "env = City((20, 20))\n",
    "env.reset(random_start = True)\n",
    "\n",
    "for i in range(300):\n",
    "    action, _states = model.predict(env.vus)\n",
    "    obs, rewards, dones, info = env.step(action)\n",
    "    env.render(\"human\")\n",
    "cv2.waitKey(0)\n",
    "cv2.destroyAllWindows()"
   ]
  },
  {
   "cell_type": "code",
   "execution_count": null,
   "id": "47f8c99d",
   "metadata": {},
   "outputs": [],
   "source": []
  }
 ],
 "metadata": {
  "kernelspec": {
   "display_name": "Python 3",
   "language": "python",
   "name": "python3"
  },
  "language_info": {
   "codemirror_mode": {
    "name": "ipython",
    "version": 3
   },
   "file_extension": ".py",
   "mimetype": "text/x-python",
   "name": "python",
   "nbconvert_exporter": "python",
   "pygments_lexer": "ipython3",
   "version": "3.8.8"
  }
 },
 "nbformat": 4,
 "nbformat_minor": 5
}
