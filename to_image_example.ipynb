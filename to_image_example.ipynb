{
 "cells": [
  {
   "cell_type": "code",
   "execution_count": null,
   "id": "81fd1ecc",
   "metadata": {},
   "outputs": [],
   "source": [
    "# import environement\n",
    "from city import City\n",
    "\n",
    "import os\n",
    "import cv2"
   ]
  },
  {
   "cell_type": "code",
   "execution_count": null,
   "id": "60ad8c20",
   "metadata": {},
   "outputs": [],
   "source": [
    "#aleatoire\n",
    "path = './resultRandom/'\n",
    "try : os.mkdir(path)\n",
    "except OSError : pass\n",
    "    \n",
    "env = City((200, 200),path=path)\n",
    "env.reset(random_start = True)\n",
    "\n",
    "# show an example of image\n",
    "for _ in range(100):\n",
    "    _, _, done, _ = env.step(env.action_space.sample())\n",
    "    cv2.imshow('image', env.to_image())\n",
    "    cv2.waitKey(1)\n",
    "    if done : env.reset()\n",
    "\n",
    "cv2.waitKey(0)\n",
    "cv2.destroyAllWindows()"
   ]
  },
  {
   "cell_type": "code",
   "execution_count": null,
   "id": "a79193bf",
   "metadata": {},
   "outputs": [],
   "source": []
  }
 ],
 "metadata": {
  "kernelspec": {
   "display_name": "Python 3",
   "language": "python",
   "name": "python3"
  },
  "language_info": {
   "codemirror_mode": {
    "name": "ipython",
    "version": 3
   },
   "file_extension": ".py",
   "mimetype": "text/x-python",
   "name": "python",
   "nbconvert_exporter": "python",
   "pygments_lexer": "ipython3",
   "version": "3.8.8"
  }
 },
 "nbformat": 4,
 "nbformat_minor": 5
}
